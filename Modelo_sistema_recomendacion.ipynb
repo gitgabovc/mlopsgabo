{
 "cells": [
  {
   "cell_type": "code",
   "execution_count": 1,
   "metadata": {},
   "outputs": [
    {
     "data": {
      "text/plain": [
       "[{'juego': \"Malzbie's Pinball Collection\"},\n",
       " {'juego': 'Snooker-online multiplayer snooker game!'},\n",
       " {'juego': 'Zaccaria Pinball - Strike Table'},\n",
       " {'juego': 'Zaccaria Pinball - Shooting The Rapids Table'},\n",
       " {'juego': 'Zaccaria Pinball - Farfalla Table'}]"
      ]
     },
     "execution_count": 1,
     "metadata": {},
     "output_type": "execute_result"
    }
   ],
   "source": [
    "import pandas as pd\n",
    "from sklearn.feature_extraction.text import TfidfVectorizer\n",
    "from sklearn.metrics.pairwise import cosine_similarity\n",
    "import random\n",
    "\n",
    "\n",
    "def read_recomendacion_juego(id_juego_conocido):\n",
    "    \n",
    "    '''\n",
    "    Recibe el id de un juego y devuelve los 5 juegos recomendados, esto se determina a traves de similitud del coseno\n",
    "    '''\n",
    "    \n",
    "    df = pd.read_parquet(\"Dataset/steam_games_clean.parquet\")\n",
    "\n",
    "    # Obtener el género del juego conocido\n",
    "    genero_a_comparar = df[df['item_id'] == id_juego_conocido]['genres'].values[0]\n",
    "\n",
    "    # Filtrar el DataFrame para juegos con el mismo género (excluyendo el juego conocido)\n",
    "    df_filtrado = df[df['item_id'] != id_juego_conocido]\n",
    "\n",
    "    # Inicializar el vectorizador TF-IDF y aplicarlo a los géneros de los juegos\n",
    "    tfidf_vectorizer = TfidfVectorizer()\n",
    "    tfidf_matrix = tfidf_vectorizer.fit_transform(df_filtrado['genres'])\n",
    "\n",
    "    # Vectorizar el género conocido\n",
    "    vector_genero_conocido = tfidf_vectorizer.transform([genero_a_comparar])\n",
    "\n",
    "    # Calcular la similitud del coseno entre el género conocido y los géneros de los demás juegos\n",
    "    similarity_scores = cosine_similarity(vector_genero_conocido, tfidf_matrix)\n",
    "\n",
    "    # Obtener los índices de los 5 juegos más similares\n",
    "    indices_juegos_similares = similarity_scores.argsort()[0][-5:][::-1]\n",
    "\n",
    "    # Obtener los nombres de los 5 juegos más similares en el formato deseado\n",
    "    juegos_similares = [{\"juego\": df_filtrado.iloc[idx]['app_name']} for idx in indices_juegos_similares]\n",
    "\n",
    "    return juegos_similares\n",
    "\n",
    "read_recomendacion_juego(670290)\n"
   ]
  }
 ],
 "metadata": {
  "kernelspec": {
   "display_name": "base",
   "language": "python",
   "name": "python3"
  },
  "language_info": {
   "codemirror_mode": {
    "name": "ipython",
    "version": 3
   },
   "file_extension": ".py",
   "mimetype": "text/x-python",
   "name": "python",
   "nbconvert_exporter": "python",
   "pygments_lexer": "ipython3",
   "version": "3.10.9"
  }
 },
 "nbformat": 4,
 "nbformat_minor": 2
}
